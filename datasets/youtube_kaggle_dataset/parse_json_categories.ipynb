{
 "cells": [
  {
   "cell_type": "markdown",
   "id": "2e2b9f9c",
   "metadata": {},
   "source": [
    "# Parse JSON categories file\n",
    "\n",
    "This notebook contains code to convert JSON categories file from [kaggle dataset](https://www.kaggle.com/rsrishav/youtube-trending-video-dataset) to python dictionary.\n",
    "\n",
    "This code **IS NOT USED** in the main program, but it may be useful to someone."
   ]
  },
  {
   "cell_type": "code",
   "execution_count": 1,
   "id": "c452de9c",
   "metadata": {},
   "outputs": [],
   "source": [
    "import json"
   ]
  },
  {
   "cell_type": "code",
   "execution_count": 2,
   "id": "41591b78",
   "metadata": {},
   "outputs": [],
   "source": [
    "def json_categories_to_dict(filename):\n",
    "    \"\"\" \n",
    "    Parse JSON categories from 'filename' to python dict \n",
    "    with {id(int) -> category(str)} elements \n",
    "    \"\"\"\n",
    "\n",
    "    try:\n",
    "        f = open(filename, 'r')\n",
    "    except OSError:\n",
    "        print(f\"Could not open/read file: {filename}.\")\n",
    "        return None\n",
    "\n",
    "    categories_dict = {}\n",
    "    with f:\n",
    "        categories_json = json.load(f)\n",
    "\n",
    "    for item in categories_json['items']:\n",
    "        # convert id to int and add to dictionary\n",
    "        categories_dict[int(item['id'])] = item['snippet']['title']\n",
    "\n",
    "    return categories_dict"
   ]
  },
  {
   "cell_type": "code",
   "execution_count": 3,
   "id": "302636e6",
   "metadata": {},
   "outputs": [
    {
     "data": {
      "text/plain": [
       "{1: 'Film & Animation',\n",
       " 2: 'Autos & Vehicles',\n",
       " 10: 'Music',\n",
       " 15: 'Pets & Animals',\n",
       " 17: 'Sports',\n",
       " 18: 'Short Movies',\n",
       " 19: 'Travel & Events',\n",
       " 20: 'Gaming',\n",
       " 21: 'Videoblogging',\n",
       " 22: 'People & Blogs',\n",
       " 23: 'Comedy',\n",
       " 24: 'Entertainment',\n",
       " 25: 'News & Politics',\n",
       " 26: 'Howto & Style',\n",
       " 27: 'Education',\n",
       " 28: 'Science & Technology',\n",
       " 30: 'Movies',\n",
       " 31: 'Anime/Animation',\n",
       " 32: 'Action/Adventure',\n",
       " 33: 'Classics',\n",
       " 34: 'Comedy',\n",
       " 35: 'Documentary',\n",
       " 36: 'Drama',\n",
       " 37: 'Family',\n",
       " 38: 'Foreign',\n",
       " 39: 'Horror',\n",
       " 40: 'Sci-Fi/Fantasy',\n",
       " 41: 'Thriller',\n",
       " 42: 'Shorts',\n",
       " 43: 'Shows',\n",
       " 44: 'Trailers'}"
      ]
     },
     "execution_count": 3,
     "metadata": {},
     "output_type": "execute_result"
    }
   ],
   "source": [
    "categories_dict = json_categories_to_dict('data/CA_category_id.json')\n",
    "categories_dict"
   ]
  },
  {
   "cell_type": "code",
   "execution_count": null,
   "id": "0c10947f",
   "metadata": {},
   "outputs": [],
   "source": []
  }
 ],
 "metadata": {
  "kernelspec": {
   "display_name": "Python 3",
   "language": "python",
   "name": "python3"
  },
  "language_info": {
   "codemirror_mode": {
    "name": "ipython",
    "version": 3
   },
   "file_extension": ".py",
   "mimetype": "text/x-python",
   "name": "python",
   "nbconvert_exporter": "python",
   "pygments_lexer": "ipython3",
   "version": "3.8.10"
  }
 },
 "nbformat": 4,
 "nbformat_minor": 5
}
