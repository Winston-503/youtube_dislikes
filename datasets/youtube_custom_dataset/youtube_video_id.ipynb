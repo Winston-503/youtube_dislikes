{
 "cells": [
  {
   "cell_type": "markdown",
   "id": "a4c2d27f",
   "metadata": {},
   "source": [
    "# YouTube video IDs\n",
    "\n",
    "This notebook contains code to get unique video IDs from kaggle dataset and/or to generate random ids."
   ]
  },
  {
   "cell_type": "code",
   "execution_count": 1,
   "id": "04263d5f",
   "metadata": {},
   "outputs": [],
   "source": [
    "import os\n",
    "import random\n",
    "import pandas as pd"
   ]
  },
  {
   "cell_type": "markdown",
   "id": "5e7f9b84",
   "metadata": {},
   "source": [
    "# Collect unique video ids from *rsrishav* kaggle dataset"
   ]
  },
  {
   "cell_type": "code",
   "execution_count": 2,
   "id": "54212fb5",
   "metadata": {},
   "outputs": [],
   "source": [
    "# datasets from\n",
    "# https://www.kaggle.com/rsrishav/youtube-trending-video-dataset\n",
    "\n",
    "filenames_all = ['../youtube_kaggle_dataset/data/BR_youtube_trending_data.csv',\n",
    "                 '../youtube_kaggle_dataset/data/CA_youtube_trending_data.csv',\n",
    "                 '../youtube_kaggle_dataset/data/DE_youtube_trending_data.csv',\n",
    "                 '../youtube_kaggle_dataset/data/FR_youtube_trending_data.csv',\n",
    "                 '../youtube_kaggle_dataset/data/GB_youtube_trending_data.csv',\n",
    "                 '../youtube_kaggle_dataset/data/IN_youtube_trending_data.csv',\n",
    "                 '../youtube_kaggle_dataset/data/JP_youtube_trending_data.csv',\n",
    "                 '../youtube_kaggle_dataset/data/KR_youtube_trending_data.csv',\n",
    "                 '../youtube_kaggle_dataset/data/MX_youtube_trending_data.csv',\n",
    "                 '../youtube_kaggle_dataset/data/RU_youtube_trending_data.csv',\n",
    "                 '../youtube_kaggle_dataset/data/US_youtube_trending_data.csv']\n",
    "\n",
    "filenames_CA_US_GB = ['../youtube_kaggle_dataset/data/CA_youtube_trending_data.csv',\n",
    "                      '../youtube_kaggle_dataset/data/GB_youtube_trending_data.csv',\n",
    "                      '../youtube_kaggle_dataset/data/US_youtube_trending_data.csv']"
   ]
  },
  {
   "cell_type": "code",
   "execution_count": 3,
   "id": "18ea42f0",
   "metadata": {},
   "outputs": [],
   "source": [
    "def collect_unique_video_ids(filenames, sortby='comment_count'):\n",
    "    \"\"\" \n",
    "    Return list of unique video_id from all dataframes from 'filenames' list \n",
    "    sorted by 'sortby' column. If sortby=False - unsorted.\n",
    "    \"\"\"\n",
    "\n",
    "    list_of_df = []\n",
    "    for filename in filenames:\n",
    "        current_df = pd.read_csv(filename)\n",
    "        list_of_df.append(current_df)\n",
    "\n",
    "    all_df = pd.concat(list_of_df)\n",
    "    \n",
    "    if sortby:\n",
    "        # returs series\n",
    "        video_ids = all_df.groupby('video_id')[sortby].max().sort_values(ascending=False)\n",
    "        return video_ids.index.tolist()\n",
    "    else:\n",
    "        return all_df['video_id'].unique().tolist()"
   ]
  },
  {
   "cell_type": "code",
   "execution_count": 4,
   "id": "bcd2f338",
   "metadata": {},
   "outputs": [],
   "source": [
    "def save_ids(ids, filename):\n",
    "    \"\"\" Write ids to text file \"\"\"\n",
    "    \n",
    "    with open(filename, 'w') as f:\n",
    "        for id in ids:\n",
    "            f.write(id + '\\n')\n",
    "            \n",
    "def read_ids(filename):\n",
    "    \"\"\" Read ids from file to list \"\"\"\n",
    "    \n",
    "    with open(filename, 'r') as f:\n",
    "        ids = f.read().splitlines()\n",
    "\n",
    "    return ids"
   ]
  },
  {
   "cell_type": "code",
   "execution_count": 5,
   "id": "9e62ec71",
   "metadata": {
    "scrolled": true
   },
   "outputs": [
    {
     "name": "stdout",
     "output_type": "stream",
     "text": [
      "199728\n",
      "['s9FH4rDMvds', 'jbGRowa5tIk', '3EfkCrXKZNs', 'gBjox7vn3-g', 'npoUGx7UW7o', 'Vu6PNpYKu2U', 'ly8jXKq_9AE', 'QAUqqcEU0Xc', 'eA4FRvf6vdM', '8f70QZQB4UA']\n"
     ]
    }
   ],
   "source": [
    "# all unique video ids\n",
    "all_unique_ids = collect_unique_video_ids(filenames_all, \n",
    "                                          sortby=False)\n",
    "print(len(all_unique_ids))\n",
    "print(all_unique_ids[:10])\n",
    "\n",
    "save_ids(all_unique_ids, \"video_IDs/unique_ids_from_kaggle.txt\")"
   ]
  },
  {
   "cell_type": "code",
   "execution_count": 6,
   "id": "a97ca920",
   "metadata": {},
   "outputs": [
    {
     "name": "stdout",
     "output_type": "stream",
     "text": [
      "31848\n",
      "['WMweEpGlu_U', 'gdZLi9oWNZg', '-5q5mZbe3V8', '2L6gsn7rGqI', '2IkoKhr6Tss', 'CuklIb9d3fI', 'vRXZj0DzXIA', 'awkkyBH2zEo', 'zFT3f9biz68', 'CKZvWhCqx1s']\n"
     ]
    }
   ],
   "source": [
    "# unique video ids from Great Britain, Canada and USA\n",
    "# sorted by 'comment_count'\n",
    "unique_ids_GB_CA_US = collect_unique_video_ids(filenames_CA_US_GB, \n",
    "                                               sortby='comment_count')\n",
    "print(len(unique_ids_GB_CA_US))\n",
    "print(unique_ids_GB_CA_US[:10])\n",
    "\n",
    "save_ids(unique_ids_GB_CA_US, \"video_IDs/unique_ids_GB_CA_US.txt\")"
   ]
  },
  {
   "cell_type": "markdown",
   "id": "0b647554",
   "metadata": {},
   "source": [
    "# Generate random Youtube video id"
   ]
  },
  {
   "cell_type": "code",
   "execution_count": 7,
   "id": "2f306884",
   "metadata": {},
   "outputs": [],
   "source": [
    "def generate_random_video_id():\n",
    "    \"\"\" \n",
    "    Generate random Youtube video id:\n",
    "    an 11-character string consisting of \"0-9a-zA-Z\", \"-\" and \"_\"\n",
    "    \"\"\"\n",
    "    \n",
    "    characters = [c for c in '0123456789abcdefghijklmnopqrstuvwxyzABCDEFGHIJKLMNOPQRSTUVWXYZ-_']\n",
    "    return \"\".join(random.choices(characters, k=11))"
   ]
  },
  {
   "cell_type": "code",
   "execution_count": 9,
   "id": "0e1eca41",
   "metadata": {},
   "outputs": [
    {
     "name": "stdout",
     "output_type": "stream",
     "text": [
      "GFXQNCkE-hM\n",
      "mU4dPofU61v\n",
      "CMhGb5e0rU7\n",
      "_TnXVBBlc77\n",
      "SeCzy-EBTA_\n",
      "8dP33JGWTyH\n",
      "QZu6jM8j0z8\n",
      "wlkntKbNRYp\n",
      "2KS9KR8iL6Q\n",
      "I3uG7PVxo_2\n"
     ]
    }
   ],
   "source": [
    "for _ in range(10):\n",
    "    print(generate_random_video_id())"
   ]
  },
  {
   "cell_type": "code",
   "execution_count": null,
   "id": "f58bd72e",
   "metadata": {},
   "outputs": [],
   "source": []
  },
  {
   "cell_type": "code",
   "execution_count": null,
   "id": "5dd43b04",
   "metadata": {},
   "outputs": [],
   "source": []
  }
 ],
 "metadata": {
  "kernelspec": {
   "display_name": "Python 3",
   "language": "python",
   "name": "python3"
  },
  "language_info": {
   "codemirror_mode": {
    "name": "ipython",
    "version": 3
   },
   "file_extension": ".py",
   "mimetype": "text/x-python",
   "name": "python",
   "nbconvert_exporter": "python",
   "pygments_lexer": "ipython3",
   "version": "3.8.10"
  }
 },
 "nbformat": 4,
 "nbformat_minor": 5
}
